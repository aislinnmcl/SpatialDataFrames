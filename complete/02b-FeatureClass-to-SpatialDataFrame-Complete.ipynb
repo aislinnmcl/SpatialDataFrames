{
 "cells": [
  {
   "cell_type": "markdown",
   "metadata": {},
   "source": [
    "# Converting Feature Classes to Spatial Dataframes\n"
   ]
  },
  {
   "cell_type": "markdown",
   "metadata": {},
   "source": [
    "---\n",
    "### Using the ArcGIS Python API\n",
    "* https://esri.github.io/arcgis-python-api/apidoc/html/arcgis.features.toc.html?#arcgis.features.GeoAccessor.from_featureclass\n",
    "* https://developers.arcgis.com/python/guide/introduction-to-the-spatially-enabled-dataframe/#Accessing-local-GIS-data\n",
    "\n",
    "*The ArcGIS API can also easily import shapefiles into spatially enabled dataframes. This is a useful way to work with local data with the API (vs. using on-line content).*"
   ]
  },
  {
   "cell_type": "code",
   "execution_count": 12,
   "metadata": {},
   "outputs": [],
   "source": [
    "#Import pandas and the arcgis package\n",
    "import pandas as pd\n",
    "import arcgis"
   ]
  },
  {
   "cell_type": "code",
   "execution_count": 13,
   "metadata": {},
   "outputs": [],
   "source": [
    "#Get the HUC filename\n",
    "theShapefile = '../data/12Digit_HUC_Subwatersheds.shp'"
   ]
  },
  {
   "cell_type": "code",
   "execution_count": 14,
   "metadata": {},
   "outputs": [],
   "source": [
    "#Read the shapefile into a sdf\n",
    "sdfHUC12 = pd.DataFrame.spatial.from_featureclass(theShapefile)"
   ]
  },
  {
   "cell_type": "markdown",
   "metadata": {},
   "source": [
    "### Explore the spatial dataframe"
   ]
  },
  {
   "cell_type": "code",
   "execution_count": 15,
   "metadata": {},
   "outputs": [
    {
     "name": "stdout",
     "output_type": "stream",
     "text": [
      "<class 'pandas.core.frame.DataFrame'>\n",
      "RangeIndex: 1767 entries, 0 to 1766\n",
      "Data columns (total 14 columns):\n",
      " #   Column      Non-Null Count  Dtype   \n",
      "---  ------      --------------  -----   \n",
      " 0   FID         1767 non-null   int64   \n",
      " 1   FID_1       1767 non-null   int64   \n",
      " 2   HUC_8       1767 non-null   object  \n",
      " 3   HUC_10      1767 non-null   object  \n",
      " 4   HUC_12      1767 non-null   object  \n",
      " 5   ACRES       1767 non-null   int64   \n",
      " 6   HU_10_NAME  1767 non-null   object  \n",
      " 7   HU_12_NAME  1767 non-null   object  \n",
      " 8   META_ID     1767 non-null   object  \n",
      " 9   STATES      1767 non-null   object  \n",
      " 10  Basin       1767 non-null   object  \n",
      " 11  Dig_8       1767 non-null   int64   \n",
      " 12  DWQ_Basin   1767 non-null   object  \n",
      " 13  SHAPE       1767 non-null   geometry\n",
      "dtypes: geometry(1), int64(4), object(9)\n",
      "memory usage: 193.4+ KB\n"
     ]
    }
   ],
   "source": [
    "#Show column info\n",
    "sdfHUC12.info()"
   ]
  },
  {
   "cell_type": "code",
   "execution_count": 16,
   "metadata": {},
   "outputs": [
    {
     "data": {
      "text/html": [
       "<div>\n",
       "<style scoped>\n",
       "    .dataframe tbody tr th:only-of-type {\n",
       "        vertical-align: middle;\n",
       "    }\n",
       "\n",
       "    .dataframe tbody tr th {\n",
       "        vertical-align: top;\n",
       "    }\n",
       "\n",
       "    .dataframe thead th {\n",
       "        text-align: right;\n",
       "    }\n",
       "</style>\n",
       "<table border=\"1\" class=\"dataframe\">\n",
       "  <thead>\n",
       "    <tr style=\"text-align: right;\">\n",
       "      <th></th>\n",
       "      <th>FID</th>\n",
       "      <th>FID_1</th>\n",
       "      <th>HUC_8</th>\n",
       "      <th>HUC_10</th>\n",
       "      <th>HUC_12</th>\n",
       "      <th>ACRES</th>\n",
       "      <th>HU_10_NAME</th>\n",
       "      <th>HU_12_NAME</th>\n",
       "      <th>META_ID</th>\n",
       "      <th>STATES</th>\n",
       "      <th>Basin</th>\n",
       "      <th>Dig_8</th>\n",
       "      <th>DWQ_Basin</th>\n",
       "      <th>SHAPE</th>\n",
       "    </tr>\n",
       "  </thead>\n",
       "  <tbody>\n",
       "    <tr>\n",
       "      <th>0</th>\n",
       "      <td>0</td>\n",
       "      <td>1</td>\n",
       "      <td>03040208</td>\n",
       "      <td>0304020802</td>\n",
       "      <td>030402080205</td>\n",
       "      <td>7321</td>\n",
       "      <td>Shallotte River</td>\n",
       "      <td>Holden Beach-Long Bay</td>\n",
       "      <td>NC01</td>\n",
       "      <td>NC</td>\n",
       "      <td>LBR</td>\n",
       "      <td>3040208</td>\n",
       "      <td>Lumber</td>\n",
       "      <td>{\"rings\": [[[-78.3872405238257, 33.89810384972...</td>\n",
       "    </tr>\n",
       "    <tr>\n",
       "      <th>1</th>\n",
       "      <td>1</td>\n",
       "      <td>2</td>\n",
       "      <td>03030005</td>\n",
       "      <td>0303000508</td>\n",
       "      <td>030300050804</td>\n",
       "      <td>18971</td>\n",
       "      <td>Cape Fear River</td>\n",
       "      <td>Frying Pan Shoals-Cape Fear River</td>\n",
       "      <td>NC01</td>\n",
       "      <td>NC</td>\n",
       "      <td>CPF</td>\n",
       "      <td>3030005</td>\n",
       "      <td>Cape Fear</td>\n",
       "      <td>{\"rings\": [[[-78.0131516135538, 33.88847659873...</td>\n",
       "    </tr>\n",
       "    <tr>\n",
       "      <th>2</th>\n",
       "      <td>2</td>\n",
       "      <td>3</td>\n",
       "      <td>03040208</td>\n",
       "      <td>0304020801</td>\n",
       "      <td>030402080108</td>\n",
       "      <td>8639</td>\n",
       "      <td>Lockwoods Folly River</td>\n",
       "      <td>Town of Long Beach-Long Beach</td>\n",
       "      <td>NC01</td>\n",
       "      <td>NC</td>\n",
       "      <td>LBR</td>\n",
       "      <td>3040208</td>\n",
       "      <td>Lumber</td>\n",
       "      <td>{\"rings\": [[[-78.1063420966503, 33.90836853281...</td>\n",
       "    </tr>\n",
       "    <tr>\n",
       "      <th>3</th>\n",
       "      <td>3</td>\n",
       "      <td>4</td>\n",
       "      <td>03040208</td>\n",
       "      <td>0304020802</td>\n",
       "      <td>030402080201</td>\n",
       "      <td>9136</td>\n",
       "      <td>Shallotte River</td>\n",
       "      <td>Upper Shallotte River</td>\n",
       "      <td>NC01</td>\n",
       "      <td>NC</td>\n",
       "      <td>LBR</td>\n",
       "      <td>3040208</td>\n",
       "      <td>Lumber</td>\n",
       "      <td>{\"rings\": [[[-78.444038322307, 33.979568865779...</td>\n",
       "    </tr>\n",
       "    <tr>\n",
       "      <th>4</th>\n",
       "      <td>4</td>\n",
       "      <td>5</td>\n",
       "      <td>03040208</td>\n",
       "      <td>0304020801</td>\n",
       "      <td>030402080107</td>\n",
       "      <td>7610</td>\n",
       "      <td>Lockwoods Folly River</td>\n",
       "      <td>Town of Long Beach-Montgomery Slough</td>\n",
       "      <td>NC01</td>\n",
       "      <td>NC</td>\n",
       "      <td>LBR</td>\n",
       "      <td>3040208</td>\n",
       "      <td>Lumber</td>\n",
       "      <td>{\"rings\": [[[-78.1477707348721, 33.95041773840...</td>\n",
       "    </tr>\n",
       "  </tbody>\n",
       "</table>\n",
       "</div>"
      ],
      "text/plain": [
       "   FID  FID_1     HUC_8      HUC_10        HUC_12  ACRES  \\\n",
       "0    0      1  03040208  0304020802  030402080205   7321   \n",
       "1    1      2  03030005  0303000508  030300050804  18971   \n",
       "2    2      3  03040208  0304020801  030402080108   8639   \n",
       "3    3      4  03040208  0304020802  030402080201   9136   \n",
       "4    4      5  03040208  0304020801  030402080107   7610   \n",
       "\n",
       "              HU_10_NAME                            HU_12_NAME META_ID STATES  \\\n",
       "0        Shallotte River                 Holden Beach-Long Bay    NC01     NC   \n",
       "1        Cape Fear River     Frying Pan Shoals-Cape Fear River    NC01     NC   \n",
       "2  Lockwoods Folly River         Town of Long Beach-Long Beach    NC01     NC   \n",
       "3        Shallotte River                 Upper Shallotte River    NC01     NC   \n",
       "4  Lockwoods Folly River  Town of Long Beach-Montgomery Slough    NC01     NC   \n",
       "\n",
       "  Basin    Dig_8  DWQ_Basin                                              SHAPE  \n",
       "0   LBR  3040208     Lumber  {\"rings\": [[[-78.3872405238257, 33.89810384972...  \n",
       "1   CPF  3030005  Cape Fear  {\"rings\": [[[-78.0131516135538, 33.88847659873...  \n",
       "2   LBR  3040208     Lumber  {\"rings\": [[[-78.1063420966503, 33.90836853281...  \n",
       "3   LBR  3040208     Lumber  {\"rings\": [[[-78.444038322307, 33.979568865779...  \n",
       "4   LBR  3040208     Lumber  {\"rings\": [[[-78.1477707348721, 33.95041773840...  "
      ]
     },
     "execution_count": 16,
     "metadata": {},
     "output_type": "execute_result"
    }
   ],
   "source": [
    "#Show the first 5 rows\n",
    "sdfHUC12.head()"
   ]
  },
  {
   "cell_type": "code",
   "execution_count": 17,
   "metadata": {},
   "outputs": [
    {
     "data": {
      "text/plain": [
       "{'wkid': 4326, 'latestWkid': 4326}"
      ]
     },
     "execution_count": 17,
     "metadata": {},
     "output_type": "execute_result"
    }
   ],
   "source": [
    "#Show the spatial reference\n",
    "sdfHUC12.spatial.sr"
   ]
  },
  {
   "cell_type": "code",
   "execution_count": 8,
   "metadata": {},
   "outputs": [
    {
     "data": {
      "application/vnd.jupyter.widget-view+json": {
       "model_id": "63017b61106f45dba49a0861889a7a61",
       "version_major": 2,
       "version_minor": 0
      },
      "text/plain": [
       "MapView(layout=Layout(height='400px', width='100%'))"
      ]
     },
     "metadata": {},
     "output_type": "display_data"
    },
    {
     "data": {
      "text/html": [
       "<div class=\"map-static-img-preview-e51c5357-d81c-4ba2-ad66-564cbacca33b\"><img src=\"\"></img></div>"
      ],
      "text/plain": [
       "<IPython.core.display.HTML object>"
      ]
     },
     "metadata": {},
     "output_type": "display_data"
    },
    {
     "data": {
      "text/html": [
       "<div class=\"map-html-embed-preview-e51c5357-d81c-4ba2-ad66-564cbacca33b\"></div>"
      ],
      "text/plain": [
       "<IPython.core.display.HTML object>"
      ]
     },
     "metadata": {},
     "output_type": "display_data"
    }
   ],
   "source": [
    "#Plot the data\n",
    "sdfHUC12.spatial.plot()"
   ]
  },
  {
   "cell_type": "markdown",
   "metadata": {},
   "source": [
    "### Create a spatial dataframe from a web service\n",
    "Recall the source of the NC_NPDES.json file used in the last exercise. The data came from an ESRI web service (that we'll discuss more about later), located here:  \n",
    "https://services.nconemap.gov/secure/rest/services/NC1Map_Environment/FeatureServer/4  \n",
    "\n",
    "The ArcGIS Python API can read these services directly. "
   ]
  },
  {
   "cell_type": "code",
   "execution_count": 18,
   "metadata": {},
   "outputs": [],
   "source": [
    "#Set the URL as a variable\n",
    "theURL = 'https://services.nconemap.gov/secure/rest/services/NC1Map_Environment/FeatureServer/4'"
   ]
  },
  {
   "cell_type": "code",
   "execution_count": 19,
   "metadata": {},
   "outputs": [
    {
     "data": {
      "text/plain": [
       "arcgis.features.layer.FeatureLayer"
      ]
     },
     "execution_count": 19,
     "metadata": {},
     "output_type": "execute_result"
    }
   ],
   "source": [
    "#Create a layer object from the service\n",
    "feature_layer = arcgis.features.FeatureLayer(theURL)\n",
    "type(feature_layer)"
   ]
  },
  {
   "cell_type": "code",
   "execution_count": 20,
   "metadata": {},
   "outputs": [
    {
     "ename": "Exception",
     "evalue": "Could not load the dataset: Invalid or missing input parameters.\nInvalid Layer or Table ID: 4.\n(Error Code: 400)",
     "output_type": "error",
     "traceback": [
      "\u001b[1;31m---------------------------------------------------------------------------\u001b[0m",
      "\u001b[1;31mException\u001b[0m                                 Traceback (most recent call last)",
      "\u001b[1;32mC:\\Program Files\\ArcGIS\\Pro\\bin\\Python\\envs\\arcgispro-py3\\lib\\site-packages\\arcgis\\features\\geo\\_accessor.py\u001b[0m in \u001b[0;36mfrom_layer\u001b[1;34m(layer)\u001b[0m\n\u001b[0;32m   2336\u001b[0m             \u001b[1;32mfrom\u001b[0m \u001b[0marcgis\u001b[0m\u001b[1;33m.\u001b[0m\u001b[0mfeatures\u001b[0m\u001b[1;33m.\u001b[0m\u001b[0mgeo\u001b[0m\u001b[1;33m.\u001b[0m\u001b[0m_io\u001b[0m\u001b[1;33m.\u001b[0m\u001b[0mserviceops\u001b[0m \u001b[1;32mimport\u001b[0m \u001b[0mfrom_layer\u001b[0m\u001b[1;33m\u001b[0m\u001b[1;33m\u001b[0m\u001b[0m\n\u001b[1;32m-> 2337\u001b[1;33m             \u001b[1;32mreturn\u001b[0m \u001b[0mfrom_layer\u001b[0m\u001b[1;33m(\u001b[0m\u001b[0mlayer\u001b[0m\u001b[1;33m=\u001b[0m\u001b[0mlayer\u001b[0m\u001b[1;33m)\u001b[0m\u001b[1;33m\u001b[0m\u001b[1;33m\u001b[0m\u001b[0m\n\u001b[0m\u001b[0;32m   2338\u001b[0m         \u001b[1;32mexcept\u001b[0m \u001b[0mImportError\u001b[0m\u001b[1;33m:\u001b[0m\u001b[1;33m\u001b[0m\u001b[1;33m\u001b[0m\u001b[0m\n",
      "\u001b[1;32mC:\\Program Files\\ArcGIS\\Pro\\bin\\Python\\envs\\arcgispro-py3\\lib\\site-packages\\arcgis\\features\\geo\\_io\\serviceops.py\u001b[0m in \u001b[0;36mfrom_layer\u001b[1;34m(layer, query)\u001b[0m\n\u001b[0;32m    115\u001b[0m         \u001b[1;32mraise\u001b[0m \u001b[0mValueError\u001b[0m\u001b[1;33m(\u001b[0m\u001b[1;34m\"Invalid inputs: must be FeatureLayer or Table\"\u001b[0m\u001b[1;33m)\u001b[0m\u001b[1;33m\u001b[0m\u001b[1;33m\u001b[0m\u001b[0m\n\u001b[1;32m--> 116\u001b[1;33m     \u001b[0msdf\u001b[0m \u001b[1;33m=\u001b[0m \u001b[0mlayer\u001b[0m\u001b[1;33m.\u001b[0m\u001b[0mquery\u001b[0m\u001b[1;33m(\u001b[0m\u001b[0mwhere\u001b[0m\u001b[1;33m=\u001b[0m\u001b[0mquery\u001b[0m\u001b[1;33m,\u001b[0m \u001b[0mas_df\u001b[0m\u001b[1;33m=\u001b[0m\u001b[1;32mTrue\u001b[0m\u001b[1;33m)\u001b[0m\u001b[1;33m\u001b[0m\u001b[1;33m\u001b[0m\u001b[0m\n\u001b[0m\u001b[0;32m    117\u001b[0m     \u001b[0msdf\u001b[0m\u001b[1;33m.\u001b[0m\u001b[0mspatial\u001b[0m\u001b[1;33m.\u001b[0m\u001b[0m_meta\u001b[0m\u001b[1;33m.\u001b[0m\u001b[0msource\u001b[0m \u001b[1;33m=\u001b[0m \u001b[0mlayer\u001b[0m\u001b[1;33m\u001b[0m\u001b[1;33m\u001b[0m\u001b[0m\n",
      "\u001b[1;32mC:\\Program Files\\ArcGIS\\Pro\\bin\\Python\\envs\\arcgispro-py3\\lib\\site-packages\\arcgis\\features\\layer.py\u001b[0m in \u001b[0;36mquery\u001b[1;34m(self, where, out_fields, time_filter, geometry_filter, return_geometry, return_count_only, return_ids_only, return_distinct_values, return_extent_only, group_by_fields_for_statistics, statistic_filter, result_offset, result_record_count, object_ids, distance, units, max_allowable_offset, out_sr, geometry_precision, gdb_version, order_by_fields, out_statistics, return_z, return_m, multipatch_option, quantization_parameters, return_centroid, return_all_records, result_type, historic_moment, sql_format, return_true_curves, return_exceeded_limit_features, as_df, datum_transformation, **kwargs)\u001b[0m\n\u001b[0;32m   1546\u001b[0m         \u001b[0mparams\u001b[0m\u001b[1;33m[\u001b[0m\u001b[1;34m'returnCountOnly'\u001b[0m\u001b[1;33m]\u001b[0m \u001b[1;33m=\u001b[0m \u001b[1;32mTrue\u001b[0m\u001b[1;33m\u001b[0m\u001b[1;33m\u001b[0m\u001b[0m\n\u001b[1;32m-> 1547\u001b[1;33m         \u001b[0mrecord_count\u001b[0m \u001b[1;33m=\u001b[0m \u001b[0mself\u001b[0m\u001b[1;33m.\u001b[0m\u001b[0m_query\u001b[0m\u001b[1;33m(\u001b[0m\u001b[0murl\u001b[0m\u001b[1;33m,\u001b[0m \u001b[0mparams\u001b[0m\u001b[1;33m,\u001b[0m \u001b[0mraw\u001b[0m\u001b[1;33m=\u001b[0m\u001b[0mas_raw\u001b[0m\u001b[1;33m)\u001b[0m\u001b[1;33m\u001b[0m\u001b[1;33m\u001b[0m\u001b[0m\n\u001b[0m\u001b[0;32m   1548\u001b[0m         \u001b[1;32mif\u001b[0m \u001b[1;34m'maxRecordCount'\u001b[0m \u001b[1;32min\u001b[0m \u001b[0mself\u001b[0m\u001b[1;33m.\u001b[0m\u001b[0mproperties\u001b[0m\u001b[1;33m:\u001b[0m\u001b[1;33m\u001b[0m\u001b[1;33m\u001b[0m\u001b[0m\n",
      "\u001b[1;32mC:\\Program Files\\ArcGIS\\Pro\\bin\\Python\\envs\\arcgispro-py3\\lib\\site-packages\\arcgis\\features\\layer.py\u001b[0m in \u001b[0;36m_query\u001b[1;34m(self, url, params, raw)\u001b[0m\n\u001b[0;32m   2562\u001b[0m             \u001b[1;32melse\u001b[0m\u001b[1;33m:\u001b[0m\u001b[1;33m\u001b[0m\u001b[1;33m\u001b[0m\u001b[0m\n\u001b[1;32m-> 2563\u001b[1;33m                 \u001b[1;32mraise\u001b[0m \u001b[0mqueryException\u001b[0m\u001b[1;33m\u001b[0m\u001b[1;33m\u001b[0m\u001b[0m\n\u001b[0m\u001b[0;32m   2564\u001b[0m \u001b[1;33m\u001b[0m\u001b[0m\n",
      "\u001b[1;32mC:\\Program Files\\ArcGIS\\Pro\\bin\\Python\\envs\\arcgispro-py3\\lib\\site-packages\\arcgis\\features\\layer.py\u001b[0m in \u001b[0;36m_query\u001b[1;34m(self, url, params, raw)\u001b[0m\n\u001b[0;32m   2532\u001b[0m             result = self._con.post(path=url,\n\u001b[1;32m-> 2533\u001b[1;33m                                     postdata=params, token=self._token)\n\u001b[0m\u001b[0;32m   2534\u001b[0m         \u001b[1;32mexcept\u001b[0m \u001b[0mException\u001b[0m \u001b[1;32mas\u001b[0m \u001b[0mqueryException\u001b[0m\u001b[1;33m:\u001b[0m\u001b[1;33m\u001b[0m\u001b[1;33m\u001b[0m\u001b[0m\n",
      "\u001b[1;32mC:\\Program Files\\ArcGIS\\Pro\\bin\\Python\\envs\\arcgispro-py3\\lib\\site-packages\\arcgis\\gis\\_impl\\_con\\_connection.py\u001b[0m in \u001b[0;36mpost\u001b[1;34m(self, path, params, files, **kwargs)\u001b[0m\n\u001b[0;32m    719\u001b[0m                                      \u001b[0mtry_json\u001b[0m\u001b[1;33m=\u001b[0m\u001b[0mtry_json\u001b[0m\u001b[1;33m,\u001b[0m\u001b[1;33m\u001b[0m\u001b[1;33m\u001b[0m\u001b[0m\n\u001b[1;32m--> 720\u001b[1;33m                                      force_bytes=kwargs.pop('force_bytes', False))\n\u001b[0m\u001b[0;32m    721\u001b[0m     \u001b[1;31m#----------------------------------------------------------------------\u001b[0m\u001b[1;33m\u001b[0m\u001b[1;33m\u001b[0m\u001b[1;33m\u001b[0m\u001b[0m\n",
      "\u001b[1;32mC:\\Program Files\\ArcGIS\\Pro\\bin\\Python\\envs\\arcgispro-py3\\lib\\site-packages\\arcgis\\gis\\_impl\\_con\\_connection.py\u001b[0m in \u001b[0;36m_handle_response\u001b[1;34m(self, resp, file_name, out_path, try_json, force_bytes)\u001b[0m\n\u001b[0;32m    513\u001b[0m                 \u001b[0merrorcode\u001b[0m \u001b[1;33m=\u001b[0m \u001b[0mdata\u001b[0m\u001b[1;33m[\u001b[0m\u001b[1;34m'error'\u001b[0m\u001b[1;33m]\u001b[0m\u001b[1;33m[\u001b[0m\u001b[1;34m'code'\u001b[0m\u001b[1;33m]\u001b[0m \u001b[1;32mif\u001b[0m \u001b[1;34m'code'\u001b[0m \u001b[1;32min\u001b[0m \u001b[0mdata\u001b[0m\u001b[1;33m[\u001b[0m\u001b[1;34m'error'\u001b[0m\u001b[1;33m]\u001b[0m \u001b[1;32melse\u001b[0m \u001b[1;36m0\u001b[0m\u001b[1;33m\u001b[0m\u001b[1;33m\u001b[0m\u001b[0m\n\u001b[1;32m--> 514\u001b[1;33m                 \u001b[0mself\u001b[0m\u001b[1;33m.\u001b[0m\u001b[0m_handle_json_error\u001b[0m\u001b[1;33m(\u001b[0m\u001b[0mdata\u001b[0m\u001b[1;33m[\u001b[0m\u001b[1;34m'error'\u001b[0m\u001b[1;33m]\u001b[0m\u001b[1;33m,\u001b[0m \u001b[0merrorcode\u001b[0m\u001b[1;33m)\u001b[0m\u001b[1;33m\u001b[0m\u001b[1;33m\u001b[0m\u001b[0m\n\u001b[0m\u001b[0;32m    515\u001b[0m             \u001b[1;32mreturn\u001b[0m \u001b[0mdata\u001b[0m\u001b[1;33m\u001b[0m\u001b[1;33m\u001b[0m\u001b[0m\n",
      "\u001b[1;32mC:\\Program Files\\ArcGIS\\Pro\\bin\\Python\\envs\\arcgispro-py3\\lib\\site-packages\\arcgis\\gis\\_impl\\_con\\_connection.py\u001b[0m in \u001b[0;36m_handle_json_error\u001b[1;34m(self, error, errorcode)\u001b[0m\n\u001b[0;32m    535\u001b[0m         \u001b[0merrormessage\u001b[0m \u001b[1;33m=\u001b[0m \u001b[0merrormessage\u001b[0m \u001b[1;33m+\u001b[0m \u001b[1;34m\"\\n(Error Code: \"\u001b[0m \u001b[1;33m+\u001b[0m \u001b[0mstr\u001b[0m\u001b[1;33m(\u001b[0m\u001b[0merrorcode\u001b[0m\u001b[1;33m)\u001b[0m \u001b[1;33m+\u001b[0m\u001b[1;34m\")\"\u001b[0m\u001b[1;33m\u001b[0m\u001b[1;33m\u001b[0m\u001b[0m\n\u001b[1;32m--> 536\u001b[1;33m         \u001b[1;32mraise\u001b[0m \u001b[0mException\u001b[0m\u001b[1;33m(\u001b[0m\u001b[0merrormessage\u001b[0m\u001b[1;33m)\u001b[0m\u001b[1;33m\u001b[0m\u001b[1;33m\u001b[0m\u001b[0m\n\u001b[0m\u001b[0;32m    537\u001b[0m     \u001b[1;31m#----------------------------------------------------------------------\u001b[0m\u001b[1;33m\u001b[0m\u001b[1;33m\u001b[0m\u001b[1;33m\u001b[0m\u001b[0m\n",
      "\u001b[1;31mException\u001b[0m: Invalid or missing input parameters.\nInvalid Layer or Table ID: 4.\n(Error Code: 400)",
      "\nDuring handling of the above exception, another exception occurred:\n",
      "\u001b[1;31mException\u001b[0m                                 Traceback (most recent call last)",
      "\u001b[1;32m<ipython-input-20-1ec3697ccab9>\u001b[0m in \u001b[0;36m<module>\u001b[1;34m\u001b[0m\n\u001b[0;32m      1\u001b[0m \u001b[1;31m#We can convert this to a spatial dataframe\u001b[0m\u001b[1;33m\u001b[0m\u001b[1;33m\u001b[0m\u001b[1;33m\u001b[0m\u001b[0m\n\u001b[1;32m----> 2\u001b[1;33m \u001b[0msdf_NPDES\u001b[0m \u001b[1;33m=\u001b[0m \u001b[0mpd\u001b[0m\u001b[1;33m.\u001b[0m\u001b[0mDataFrame\u001b[0m\u001b[1;33m.\u001b[0m\u001b[0mspatial\u001b[0m\u001b[1;33m.\u001b[0m\u001b[0mfrom_layer\u001b[0m\u001b[1;33m(\u001b[0m\u001b[0mfeature_layer\u001b[0m\u001b[1;33m)\u001b[0m\u001b[1;33m\u001b[0m\u001b[1;33m\u001b[0m\u001b[0m\n\u001b[0m",
      "\u001b[1;32mC:\\Program Files\\ArcGIS\\Pro\\bin\\Python\\envs\\arcgispro-py3\\lib\\site-packages\\arcgis\\features\\geo\\_accessor.py\u001b[0m in \u001b[0;36mfrom_layer\u001b[1;34m(layer)\u001b[0m\n\u001b[0;32m   2341\u001b[0m             \u001b[1;32mraise\u001b[0m \u001b[0mException\u001b[0m\u001b[1;33m(\u001b[0m\u001b[1;34m\"Malformed response from server, could not load the dataset: %s\"\u001b[0m \u001b[1;33m%\u001b[0m \u001b[0mstr\u001b[0m\u001b[1;33m(\u001b[0m\u001b[0mje\u001b[0m\u001b[1;33m)\u001b[0m\u001b[1;33m)\u001b[0m\u001b[1;33m\u001b[0m\u001b[1;33m\u001b[0m\u001b[0m\n\u001b[0;32m   2342\u001b[0m         \u001b[1;32mexcept\u001b[0m \u001b[0mException\u001b[0m \u001b[1;32mas\u001b[0m \u001b[0me\u001b[0m\u001b[1;33m:\u001b[0m\u001b[1;33m\u001b[0m\u001b[1;33m\u001b[0m\u001b[0m\n\u001b[1;32m-> 2343\u001b[1;33m             \u001b[1;32mraise\u001b[0m \u001b[0mException\u001b[0m\u001b[1;33m(\u001b[0m\u001b[1;34m\"Could not load the dataset: %s\"\u001b[0m \u001b[1;33m%\u001b[0m \u001b[0mstr\u001b[0m\u001b[1;33m(\u001b[0m\u001b[0me\u001b[0m\u001b[1;33m)\u001b[0m\u001b[1;33m)\u001b[0m\u001b[1;33m\u001b[0m\u001b[1;33m\u001b[0m\u001b[0m\n\u001b[0m\u001b[0;32m   2344\u001b[0m     \u001b[1;31m#----------------------------------------------------------------------\u001b[0m\u001b[1;33m\u001b[0m\u001b[1;33m\u001b[0m\u001b[1;33m\u001b[0m\u001b[0m\n\u001b[0;32m   2345\u001b[0m     \u001b[1;33m@\u001b[0m\u001b[0mstaticmethod\u001b[0m\u001b[1;33m\u001b[0m\u001b[1;33m\u001b[0m\u001b[0m\n",
      "\u001b[1;31mException\u001b[0m: Could not load the dataset: Invalid or missing input parameters.\nInvalid Layer or Table ID: 4.\n(Error Code: 400)"
     ]
    }
   ],
   "source": [
    "#We can convert this to a spatial dataframe\n",
    "sdf_NPDES = pd.DataFrame.spatial.from_layer(feature_layer)"
   ]
  },
  {
   "cell_type": "code",
   "execution_count": null,
   "metadata": {},
   "outputs": [],
   "source": [
    "#Plot the spatial dataframe\n",
    "sdf_NPDES.spatial.plot()"
   ]
  }
 ],
 "metadata": {
  "kernelspec": {
   "display_name": "Python 3",
   "language": "python",
   "name": "python3"
  },
  "language_info": {
   "codemirror_mode": {
    "name": "ipython",
    "version": 3
   },
   "file_extension": ".py",
   "mimetype": "text/x-python",
   "name": "python",
   "nbconvert_exporter": "python",
   "pygments_lexer": "ipython3",
   "version": "3.7.10"
  }
 },
 "nbformat": 4,
 "nbformat_minor": 2
}
